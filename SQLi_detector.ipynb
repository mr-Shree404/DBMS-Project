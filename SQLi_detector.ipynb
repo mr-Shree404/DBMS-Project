{
 "cells": [
  {
   "cell_type": "code",
   "execution_count": 9,
   "metadata": {},
   "outputs": [],
   "source": [
    "import pickle\n",
    "from SQL_parser import * "
   ]
  },
  {
   "cell_type": "code",
   "execution_count": 10,
   "metadata": {},
   "outputs": [],
   "source": [
    "def predict(gotQuery: str):\n",
    "    # Load the trained model from the pickle file\n",
    "    with open('DBMS.pkl', 'rb') as file:\n",
    "        model = pickle.load(file)\n",
    "\n",
    "    # Get raw input from the user   \n",
    "    raw_input = query_parser(gotQuery)\n",
    "\n",
    "    # Predict using the imported model\n",
    "    prediction = model.predict([raw_input])\n",
    "\n",
    "    # print(\"Prediction:\", prediction)\n",
    "    return list(prediction)\n"
   ]
  },
  {
   "cell_type": "code",
   "execution_count": 19,
   "metadata": {},
   "outputs": [
    {
     "name": "stdout",
     "output_type": "stream",
     "text": [
      "Genuine query! Forwording to database server!!\n"
     ]
    },
    {
     "name": "stderr",
     "output_type": "stream",
     "text": [
      "c:\\Users\\Shree\\AppData\\Local\\Programs\\Python\\Python310\\lib\\site-packages\\sklearn\\base.py:439: UserWarning: X does not have valid feature names, but RandomForestClassifier was fitted with feature names\n",
      "  warnings.warn(\n"
     ]
    }
   ],
   "source": [
    "gotQuery = input(\"Enter the input: \")  # [1,0,1,1,0,2] = 1   |  [1,0,0,0,5,1]  =  0\n",
    "pridicted = predict(gotQuery)\n",
    "\n",
    "########\n",
    "if pridicted[0] == 1:\n",
    "    print(\"ALERT!!!! SQL injection detected!!\")\n",
    "elif pridicted[0] == 0:\n",
    "    print(\"Genuine query! Forwording to database server!!\")"
   ]
  }
 ],
 "metadata": {
  "kernelspec": {
   "display_name": "Python 3",
   "language": "python",
   "name": "python3"
  },
  "language_info": {
   "codemirror_mode": {
    "name": "ipython",
    "version": 3
   },
   "file_extension": ".py",
   "mimetype": "text/x-python",
   "name": "python",
   "nbconvert_exporter": "python",
   "pygments_lexer": "ipython3",
   "version": "3.10.7"
  }
 },
 "nbformat": 4,
 "nbformat_minor": 2
}
