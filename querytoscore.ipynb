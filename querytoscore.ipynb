{
 "cells": [
  {
   "cell_type": "code",
   "execution_count": 8,
   "metadata": {},
   "outputs": [],
   "source": [
    "import re\n",
    "import csv\n",
    "import pandas as pd"
   ]
  },
  {
   "cell_type": "code",
   "execution_count": 9,
   "metadata": {},
   "outputs": [],
   "source": [
    "def analyze_sql_query(sql_query):\n",
    "    # Counting Comment Characters\n",
    "    comment_chars_count = sql_query.count('--') + sql_query.count('/*')\n",
    "\n",
    "    # Counting Semicolons\n",
    "    semicolons_count = sql_query.count(';')\n",
    "\n",
    "    # Counting Logical Operators\n",
    "    logical_operators_count = sum(1 for op in ['AND', 'OR', 'NOT'] if f' {op} ' in sql_query.upper())\n",
    "\n",
    "    # Counting True Conditions\n",
    "    true_conditions_count = sum(1 for true_cond in ['TRUE', '1=1', '1=1--'] if true_cond in sql_query.upper())\n",
    "\n",
    "    # Counting Keywords\n",
    "    keywords_count = sum(1 for keyword in [ 'ADD', 'ALL', 'ALTER', 'ANY', 'AS', 'ASC', 'AUTHORIZATION', 'BACKUP', 'BEGIN', 'BETWEEN', 'BREAK', 'BROWSE',\n",
    "    'BULK', 'BY', 'CASCADE', 'CASE', 'CHECK', 'CLOSE', 'COALESCE', 'COLLATE', 'COLUMN', 'COMMIT', 'COMPUTE',\n",
    "    'CONTAINS', 'CONTAINSTABLE', 'CONTINUE', 'CONVERT', 'CREATE', 'CROSS', 'CURRENT', 'CURRENT_DATE', 'CURRENT_TIME',\n",
    "    'CURRENT_TIMESTAMP', 'CURRENT_USER', 'CURSOR', 'DATABASE', 'DBCC', 'DEALLOCATE', 'DECLARE', 'DEFAULT', 'DELETE',\n",
    "    'DENY', 'DESC', 'DISK', 'DISTINCT', 'DOUBLE', 'DROP', 'DUMP', 'END', 'ERRLVL', 'EXCEPT', 'EXEC', 'EXECUTE',\n",
    "    'EXISTS', 'EXIT', 'FETCH', 'FOR', 'FOREIGN', 'FREETEXT', 'FREETEXTTABLE', 'FROM', 'FULL', 'GOTO', 'GRANT', 'GROUP',\n",
    "    'HAVING', 'HOLDLOCK', 'IDENTITY', 'IDENTITY_INSERT', 'IDENTITYCOL', 'INDEX', 'INNER', 'INSERT', 'INTERSECT', 'INTO',\n",
    "    'JOIN', 'KILL', 'LEFT', 'LIKE', 'LINENO', 'LOAD', 'NOCHECK', 'OFFSETS', 'OPEN', 'OPENDATASOURCE', 'OPENQUERY',\n",
    "    'OPENROWSET', 'OPENXML', 'OPTION', 'ORDER', 'OUTER', 'OVER', 'PERCENT', 'PRIMARY', 'PRINT', 'PROCEDURE', 'PUBLIC',\n",
    "    'RAISEERROR', 'READ', 'READTEXT', 'RECONFIGURE', 'REFERENCES', 'REPLICATION', 'RESTORE', 'RESTRICT', 'RETURN',\n",
    "    'REVOKE', 'RIGHT', 'ROLLBACK', 'ROWCOUNT', 'ROWGUIDCOL', 'RULE', 'SAVE', 'SCHEMA', 'SELECT', 'SESSION_USER', 'SET',\n",
    "    'SETUSER', 'SHUTDOWN', 'SOME', 'SYSTEM_USER', 'SYS', 'TABLE', 'TEXTSIZE', 'TOP', 'TRAN', 'TRANSACTION', 'TRIGGER',\n",
    "    'TRUNCATE', 'TSEQUAL', 'UNION', 'UNIQUE', 'UPDATE', 'UPDATETEXT', 'USE', 'USER', 'VALUES', 'VARYING', 'VIEW',\n",
    "    'myappadmin', 'sp_', 'utl_', 'xp_', 'WAITFOR', 'WHERE', 'WITH', 'WRITETEXT', 'ADMIN', 'CONNECT'] if f' {keyword} ' in sql_query.upper())\n",
    "\n",
    "    # Counting Wildcard Characters\n",
    "    wild_char_count = sql_query.count('%') + sql_query.count('_')\n",
    "\n",
    "    return comment_chars_count, semicolons_count, logical_operators_count, true_conditions_count, keywords_count, wild_char_count"
   ]
  },
  {
   "cell_type": "code",
   "execution_count": 10,
   "metadata": {},
   "outputs": [],
   "source": [
    "def save_to_csv(result, filename='sql_analysis.csv'):\n",
    "    fields = ['Comment Characters', 'Semicolons', 'Logical Operators', 'True Conditions', 'Keywords', 'Wild Characters']\n",
    "    with open(filename, 'w', newline='') as csvfile:\n",
    "        writer = csv.DictWriter(csvfile, fieldnames=fields)\n",
    "        writer.writeheader()\n",
    "        writer.writerow({fields[i]: result[i] for i in range(len(fields))})"
   ]
  },
  {
   "cell_type": "code",
   "execution_count": 11,
   "metadata": {},
   "outputs": [],
   "source": [
    "def analyze_sql_queries_from_excel(excel_file, output_csv='sql_analysis.csv'):\n",
    "    # Read SQL queries from Excel file\n",
    "    df = pd.read_excel(excel_file)\n",
    "    \n",
    "    # Analyze each SQL query and save the results\n",
    "    with open(output_csv, 'w', newline='') as csvfile:\n",
    "        writer = csv.DictWriter(csvfile, fieldnames=fields)\n",
    "        writer.writeheader()\n",
    "\n",
    "        for index, row in df.iterrows():\n",
    "            sql_query = str(row['SQL Query'])  # Modify column name based on your Excel structure\n",
    "            analysis_result = analyze_sql_query(sql_query)\n",
    "            writer.writerow({fields[i]: analysis_result[i] for i in range(len(fields))})"
   ]
  },
  {
   "cell_type": "code",
   "execution_count": 13,
   "metadata": {},
   "outputs": [],
   "source": [
    "# if __name__ == \"__main__\":\n",
    "def query_parser(input_query: str, inputType: int=1):\n",
    "    # Define fields\n",
    "    fields = ['Comment Characters', 'Semicolons', 'Logical Operators', 'True Conditions', 'Keywords', 'Wild Characters']\n",
    "\n",
    "    # passing single query as string\n",
    "    if inputType == 1:\n",
    "        got_query = input_query\n",
    "        got_parsed_query = analyze_sql_query(got_query)\n",
    "        return got_parsed_query\n",
    "    else:\n",
    "    # Example Excel file containing SQL queries\n",
    "        try:\n",
    "            excel_file_path = input_query\n",
    "            # Analyze SQL queries from Excel and save the results to CSV\n",
    "            analyze_sql_queries_from_excel(excel_file_path)\n",
    "            print(\"Saved parsed data into 'sql_analysis.csv'!\")\n",
    "            return True\n",
    "        except:\n",
    "            print(\"Something went wrong!!\")\n",
    "            return False"
   ]
  },
  {
   "cell_type": "code",
   "execution_count": 14,
   "metadata": {},
   "outputs": [],
   "source": [
    "test_query_0 = \"SELECT * FROM place WHERE finest = 'essential' LIMIT 3\"\n",
    "test_query_1 = '1\"  )   where 9861  =  9861'"
   ]
  },
  {
   "cell_type": "code",
   "execution_count": 17,
   "metadata": {},
   "outputs": [
    {
     "data": {
      "text/plain": [
       "(0, 0, 0, 0, 2, 0)"
      ]
     },
     "execution_count": 17,
     "metadata": {},
     "output_type": "execute_result"
    }
   ],
   "source": [
    "query_parser(test_query_0)"
   ]
  }
 ],
 "metadata": {
  "kernelspec": {
   "display_name": "Python 3",
   "language": "python",
   "name": "python3"
  },
  "language_info": {
   "codemirror_mode": {
    "name": "ipython",
    "version": 3
   },
   "file_extension": ".py",
   "mimetype": "text/x-python",
   "name": "python",
   "nbconvert_exporter": "python",
   "pygments_lexer": "ipython3",
   "version": "3.10.7"
  }
 },
 "nbformat": 4,
 "nbformat_minor": 2
}
